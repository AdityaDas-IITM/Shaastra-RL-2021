{
 "metadata": {
  "language_info": {
   "codemirror_mode": {
    "name": "ipython",
    "version": 3
   },
   "file_extension": ".py",
   "mimetype": "text/x-python",
   "name": "python",
   "nbconvert_exporter": "python",
   "pygments_lexer": "ipython3",
   "version": "3.8.5-final"
  },
  "orig_nbformat": 2,
  "kernelspec": {
   "name": "python3",
   "display_name": "Python 3.8.5 64-bit",
   "metadata": {
    "interpreter": {
     "hash": "31f2aee4e71d21fbe5cf8b01ff0e069b9275f58929596ceb00d14d90e3e16cd6"
    }
   }
  }
 },
 "nbformat": 4,
 "nbformat_minor": 2,
 "cells": [
  {
   "cell_type": "code",
   "execution_count": null,
   "metadata": {},
   "outputs": [],
   "source": [
    "#Run this cell if on colab\n",
    "!apt-get install build-essential zlib1g-dev libsdl2-dev libjpeg-dev \\\n",
    "nasm tar libbz2-dev libgtk2.0-dev cmake git libfluidsynth-dev libgme-dev \\\n",
    "libopenal-dev timidity libwildmidi-dev unzip libboost-all-dev\n",
    "\n",
    "!pip install vizdoom\n"
   ]
  },
  {
   "cell_type": "code",
   "execution_count": 11,
   "metadata": {},
   "outputs": [],
   "source": [
    "from vizdoom import *\n",
    "import random\n",
    "import time\n",
    "import cv2\n",
    "import numpy as np\n",
    "from model import Agent\n",
    "import torch"
   ]
  },
  {
   "cell_type": "code",
   "execution_count": 12,
   "metadata": {},
   "outputs": [],
   "source": [
    "def train(game, episodes, eps, eps_decay, agent, input_shape, max_rew = -1e3, resume = False, path = 'None'):\n",
    "    game.set_window_visible(False)\n",
    "    if resume:\n",
    "        agent.qnetwork_local.load_state_dict(torch.load(path))\n",
    "    game.init()\n",
    "    for i in range(episodes):\n",
    "        game.new_episode()\n",
    "        \n",
    "        while not game.is_episode_finished():\n",
    "            state = game.get_state().screen_buffer\n",
    "            state= cv2.resize(state, (input_shape, input_shape))\n",
    "            if len(state.shape)==2:\n",
    "                state = np.expand_dims(state, axis=0)\n",
    "            \n",
    "            action = agent.get_action(state, eps)\n",
    "            reward = game.make_action(action)\n",
    "            done = 1 if game.is_episode_finished() else 0\n",
    "            if not done:\n",
    "                next_state = game.get_state().screen_buffer\n",
    "                next_state = cv2.resize(next_state, (input_shape, input_shape))\n",
    "                if len(next_state.shape)==2:\n",
    "                    next_state = np.expand_dims(next_state, axis=0)\n",
    "            else:\n",
    "                next_state = np.zeros((input_channels, input_shape, input_shape))\n",
    "\n",
    "            agent.step(state, action, reward, next_state, done)\n",
    "            state = next_state\n",
    "            eps*=eps_decay\n",
    "            # time.sleep(0.02)\n",
    "        total_rew = game.get_total_reward()  \n",
    "        print (f'Episode {i} Reward {total_rew}')\n",
    "        if total_rew >= max_rew:\n",
    "            max_rew = total_rew\n",
    "            torch.save(agent.qnetwork_local.state_dict(), f'./basic.pth')"
   ]
  },
  {
   "cell_type": "code",
   "execution_count": 13,
   "metadata": {},
   "outputs": [],
   "source": [
    "def infer(game, agent, episodes, path):\n",
    "    game.set_window_visible(True)\n",
    "    game.init()\n",
    "    agent.qnetwork_local.load_state_dict(torch.load(path))\n",
    "    for i in range(episodes):\n",
    "        game.new_episode()\n",
    "        \n",
    "        while not game.is_episode_finished():\n",
    "            state = game.get_state().screen_buffer\n",
    "            state= cv2.resize(state, (input_shape, input_shape))\n",
    "            if len(state.shape)==2:\n",
    "                state = np.expand_dims(state, axis=0)\n",
    "            \n",
    "            action = agent.get_action(state, eps=0)\n",
    "            reward = game.make_action(action)\n",
    "            time.sleep(0.02)\n",
    "        time.sleep(2)\n"
   ]
  },
  {
   "cell_type": "code",
   "execution_count": 14,
   "metadata": {},
   "outputs": [
    {
     "output_type": "error",
     "ename": "FileDoesNotExistException",
     "evalue": "File \"./basic.cfg\" does not exist.",
     "traceback": [
      "\u001b[0;31m---------------------------------------------------------------------------\u001b[0m",
      "\u001b[0;31mFileDoesNotExistException\u001b[0m                 Traceback (most recent call last)",
      "\u001b[0;32m<ipython-input-14-470395da2a5b>\u001b[0m in \u001b[0;36m<module>\u001b[0;34m\u001b[0m\n\u001b[1;32m      1\u001b[0m \u001b[0mgame\u001b[0m \u001b[0;34m=\u001b[0m \u001b[0mDoomGame\u001b[0m\u001b[0;34m(\u001b[0m\u001b[0;34m)\u001b[0m\u001b[0;34m\u001b[0m\u001b[0;34m\u001b[0m\u001b[0m\n\u001b[0;32m----> 2\u001b[0;31m \u001b[0mgame\u001b[0m\u001b[0;34m.\u001b[0m\u001b[0mload_config\u001b[0m\u001b[0;34m(\u001b[0m\u001b[0;34m\"./basic.cfg\"\u001b[0m\u001b[0;34m)\u001b[0m\u001b[0;34m\u001b[0m\u001b[0;34m\u001b[0m\u001b[0m\n\u001b[0m\u001b[1;32m      3\u001b[0m \u001b[0mgame\u001b[0m\u001b[0;34m.\u001b[0m\u001b[0mset_screen_format\u001b[0m\u001b[0;34m(\u001b[0m\u001b[0mScreenFormat\u001b[0m\u001b[0;34m.\u001b[0m\u001b[0mGRAY8\u001b[0m\u001b[0;34m)\u001b[0m\u001b[0;34m\u001b[0m\u001b[0;34m\u001b[0m\u001b[0m\n\u001b[1;32m      4\u001b[0m \u001b[0;34m\u001b[0m\u001b[0m\n\u001b[1;32m      5\u001b[0m \u001b[0minput_shape\u001b[0m \u001b[0;34m=\u001b[0m \u001b[0;36m50\u001b[0m\u001b[0;34m\u001b[0m\u001b[0;34m\u001b[0m\u001b[0m\n",
      "\u001b[0;31mFileDoesNotExistException\u001b[0m: File \"./basic.cfg\" does not exist."
     ]
    }
   ],
   "source": [
    "game = DoomGame()\n",
    "game.load_config(\"./basic.cfg\")\n",
    "game.set_screen_format(ScreenFormat.GRAY8)\n",
    "\n",
    "input_shape = 50\n",
    "input_channels = 1\n",
    "action_size = 3\n",
    "eps = 1\n",
    "eps_decay = 0.9\n",
    "agent = Agent(action_size, input_shape, input_channels)\n",
    "max_rew = -1e3\n",
    "episodes = 500\n",
    "\n",
    "train(game, episodes, eps, eps_decay, agent, input_shape)\n"
   ]
  },
  {
   "cell_type": "code",
   "execution_count": null,
   "metadata": {},
   "outputs": [],
   "source": [
    "infer(game, agent, episodes = 3, path = './checkpoints/basic.pth')"
   ]
  },
  {
   "cell_type": "code",
   "execution_count": null,
   "metadata": {},
   "outputs": [],
   "source": []
  }
 ]
}